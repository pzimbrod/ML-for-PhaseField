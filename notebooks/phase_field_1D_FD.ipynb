{
 "cells": [
  {
   "cell_type": "markdown",
   "metadata": {},
   "source": [
    "# Phasenfeldmodell"
   ]
  },
  {
   "cell_type": "markdown",
   "metadata": {},
   "source": [
    "Einbinden der nötigen Bibliotheken __[numpy](https://numpy.org)__ &  __[matplotlib](https://matplotlib.org)__."
   ]
  },
  {
   "cell_type": "code",
   "execution_count": 1,
   "metadata": {},
   "outputs": [],
   "source": [
    "import numpy as np\n",
    "import matplotlib as mpl\n",
    "import matplotlib.pyplot as plt\n",
    "import mpl_toolkits.mplot3d"
   ]
  },
  {
   "cell_type": "markdown",
   "metadata": {},
   "source": [
    "Zunächst werden noch einmal alle Gleichungen des Modells in zwei Raumdimensionen vorgestellt. \n",
    "## Energiefunktional\n",
    "Wir beginnen mit dem freien Energiefunktional \n",
    "\n",
    "$$F\\left[\\phi(x,y,t)\\right]=\\int_{-\\infty}^{\\infty}\\underbrace{\\left(\\frac{U}{2}\\left[a^{2}\\left((\\partial_{x}\\phi)^{2}+(\\partial_{y}\\phi)^{2}\\right)+g(\\phi)\\right]+\\mu_{0}h(\\phi)\\right)}_{f(\\phi,\\partial_{x}\\phi,\\partial_{y}\\phi)}dx, $$\n",
    "\n",
    "wobei $a$ und $U$ Konstanten der Dimensionen Länge bzw. Energie sind, $f(\\phi,\\partial_{x}\\phi,\\partial_{y}\\phi)$ die lokale Energiedichte bezeichnet und $\\mu_{0}$ der Unterschied in den chemischen Potenzialen der beiden Phasen ist, welcher je nach Vorzeichen das Wachstum der einen oder der anderen Phase hervorruft. Dabei steht $g(\\phi)=\\phi^{2}(1-\\phi)^{2}$ für das Doppelmuldenpotenzial, und $h(\\phi)=\\phi^{2}(3-2\\phi)$ ist das Interpolationspolynom. \n",
    "Man beachte, dass zum Erhalt der Integrität der Phasen $\\mu_{0}$ dem Betrag nach kleiner als $U/6$ sein muss, d.h. $|\\mu_{0}|<U/6$.\n",
    "\n",
    "## Phasenfeldgleichung\n",
    "\n",
    "Der Variationsansatz liefert als kinetische Entwicklungsgleichung des Phasenfeldmodells die folgende partielle Differenzialgleichung\n",
    "\n",
    "$$\n",
    "\\begin{align}\n",
    "\\frac{1}{M_{\\phi}}\\frac{\\partial\\phi}{\\partial t}&=-\\frac{\\delta F}{\\delta\\phi}\\\\\n",
    " &=\\partial_{x}\\frac{\\partial f}{\\partial\\left(\\partial_{x}\\phi\\right)}+\\partial_{y}\\frac{\\partial f}{\\partial\\left(\\partial_{y}\\phi\\right)}-\\frac{\\partial f}{\\partial\\phi}\\\\\n",
    " &=U\\left(a^{2}(\\partial_{x}^{2}\\phi+\\partial_{y}^{2}\\phi)-\\frac{1}{2}\\frac{\\partial g(\\phi)}{\\partial\\phi}\\right)-\\mu_{0}\\frac{\\partial h(\\phi)}{\\partial\\phi}.\n",
    "\\end{align}\n",
    "$$\n",
    "\n",
    "$M_\\phi$ ist der kinetische Koeffizient.\n",
    "Für die partiellen Ableitungen des Doppelmuldenpotenzials $\\partial_\\phi g(\\phi)=2\\phi(1-\\phi)(1-2\\phi)$ und des Interpolationspolynoms $\\partial_\\phi h(\\phi)=6\\phi(1-\\phi)$ definieren wir jeweils eine Funktion:"
   ]
  },
  {
   "cell_type": "code",
   "execution_count": 2,
   "metadata": {},
   "outputs": [],
   "source": [
    "def gprim(phi):\n",
    "        return 2*phi*(1.0-phi)*(1.0-2.0*phi)\n",
    "\n",
    "def hprim(phi):\n",
    "        return 6.0*phi*(1.0-phi)"
   ]
  },
  {
   "cell_type": "markdown",
   "metadata": {},
   "source": [
    "Wir kalibrieren das Phasenfeldmodell gemäß der Übung. D.h. wir gehen von den Phasenfeldparametern $a,U,M_\\phi$ über zu den Parametern $\\xi = 2a$ für die Phasenfeldgrenzflächenbreite, $\\Gamma = aU/6$ für die Grenzflächenenergie und $M=M_\\phi a^2U$ als kinetischen Koeffizienten. Mit dem kalibrierten kinetischen Koeffizienten $M [m^2/s]$, der die physikalische Einheit eines Diffusionskoeffizienten hat, ergibt sich folgende Beziehung zwischen der Triebkraft $\\mu_0$ für die Phasenumwandlung und der resultierenden stationären Grenzflächengeschwindigkeit $v$  \n",
    "\n",
    "$$\n",
    "v = \\frac{M}{\\Gamma}\\mu_0=K\\mu_0.\n",
    "$$\n",
    "\n",
    "Damit ergibt sich folgende Beziehung zwischen dem kalibrierten kinetischen Koeffizienten $M$ im Phasenfeldmodel und dem in der Vorlesung zur Erstarrung und Keimbildung eingeführten kinetischen Koeffizienten $K$: $$M=K\\Gamma.$$"
   ]
  },
  {
   "cell_type": "markdown",
   "metadata": {},
   "source": [
    "## Numerische Diskretisierung der Phasenfeldgleichung\n",
    "\n",
    "Mit den Parametern $\\xi = 2a$ für die Phasenfeldgrenzflächenbreite, $\\Gamma = aU/6$ für die Grenzflächenenergie und $M=M_\\phi a^2U$ als kinetischem Koeffizienten ändert sich die Phasenfeldgleichung zu der folgenden nichtlinearen partiallen Differenzialgleichung\n",
    "\n",
    "$$\n",
    "\\begin{align}\n",
    "\\frac{1}{M}{\\partial_t\\phi}&=\\underbrace{\\partial_{x}^{2}\\phi+\\partial_{y}^{2}\\phi}_{\\mathrm{Laplace-Operator}}-\\frac{2}{\\xi^2}{\\partial_\\phi g(\\phi)}-\\frac{\\mu_{0}}{3\\Gamma\\xi}{\\partial_\\phi h(\\phi)}.\n",
    "\\end{align}\n",
    "$$\n",
    "\n",
    "Die Phasenfeldgleichung ähnelt der partiellen Differenzialgleichung für die thermische Diffusion, welche im Rahmen der Vorlesung Materialsimulation I behandelt wurde. Insbesondere die Zeitentwicklung und der Laplace-Operator sind formgleich. Einen entscheidenden Unterschied machen die nichtlinearen Potenzialterme, die bei der Phasenfeldgleichung noch hinzu kommen. \n",
    "\n",
    "Die Phasenfeldgleichung soll gemäß dem in der Vorlesung Materialsimulation I behandelten expliziten Finiten Differenzen Verfahrens numerisch diskretisiert werden. Die erste  Zeitableitung wird gemäß dem expliziten Eulerverfahren wie folgt diskretisiert\n",
    "\n",
    "$${\\partial_t\\phi}\\quad \\rightarrow \\quad \\frac{\\phi_{i,k}^{n+1}-\\phi_{i,k}^{n}}{\\Delta t}$$\n",
    "\n",
    "Die zweiten Raumableitungen werden wie folgt diskretisiert\n",
    "\n",
    "$${\\partial_x^2\\phi}\\quad \\rightarrow \\quad \\frac{\\phi_{i+1,k}^{n}+\\phi_{i-1,k}^{n}-2\\phi_{i,k}^{n}}{\\Delta x^2}$$\n",
    "\n",
    "$${\\partial_y^2\\phi}\\quad \\rightarrow \\quad \\frac{\\phi_{i,k+1}^{n}+\\phi_{i,k-1}^{n}-2\\phi_{i,k}^{n}}{\\Delta x^2}$$\n",
    "\n",
    "Insgesamt erhalten wir die folgende diskretisierte Phasenfeldgleichung\n",
    "\n",
    "$$\n",
    "\\frac{1}{M}\\frac{\\phi_{i,k}^{n+1}-\\phi_{i,k}^{n}}{\\Delta t}=\\mathrm{d}\\phi^{n}_{i,k}=\\frac{\\phi_{i+1,k}^{n}+\\phi_{i-1,k}^{n}+\\phi_{i,k+1}^{n}+\\phi_{i,k-1}^{n}-4\\phi_{i,k}^{n}}{\\Delta x^{2}}-\\frac{2}{\\xi^{2}}\\partial_{\\phi}g(\\phi_{i,k}^{n})-\\frac{\\mu_{0}}{3\\Gamma\\xi}\\partial_{\\phi}h(\\phi_{i,k}^{n}),\n",
    "$$\n",
    "\n",
    "dabei haben wir das Differenzphasenfeld $\\mathrm{d}\\phi^{n}_{i,k}$ eingeführt, welches der rechte Seite der Phasenfeldgleichung entspricht.\n",
    "\n",
    "## Berechnung des Differenzphasenfeldes\n",
    "\n",
    "Die rechte Seite der Phasenfeldgleichung entspricht dabei dem Differenzphasenfeld $\\mathrm{d}\\phi^n_{i,k}$."
   ]
  },
  {
   "cell_type": "code",
   "execution_count": 3,
   "metadata": {},
   "outputs": [],
   "source": [
    "def solve_phasefield(phi,dphi,delta_x,xi,gamma_s,mu0,mgrid,ngrid):\n",
    "    for i in range(1,mgrid-1):\n",
    "        for k in range(1,ngrid-1):# for every inner point\n",
    "            laplace=(phi[i+1][k]+phi[i-1][k]+phi[i][k+1]+phi[i][k-1]-4.0*phi[i][k])/(delta_x*delta_x)\n",
    "            dphi[i][k] = laplace - 2.0*gprim(phi[i][k])/(xi*xi) + mu0/(3*gamma_s*xi)*hprim(phi[i][k])"
   ]
  },
  {
   "cell_type": "markdown",
   "metadata": {},
   "source": [
    "Mann beachte dass die Zählschleifen über den $x-$Index $i$ und den $y-$Index $k$ nur über das Innere des 2D Feldes, nicht aber über den Rand des Gebietes gehen. Die Randwerte werden über separate Randbedingungen festgelegt."
   ]
  },
  {
   "cell_type": "markdown",
   "metadata": {},
   "source": [
    "## Zeitentwicklung des Phasenfeldes\n",
    "In Bezug auf die Zeitabhängigkeit des Phasenfeldes beschränken wir uns im Programm aus Gründen der Effiziens nur auf ein Phasenfeld $\\phi^n_{i,k}$ zum aktuellen Zeitschritt $n$, und das aktuelle Differenzphasenfeld $\\mathrm{d}\\phi^n_{i,k}$, mit welchem das Phasenfeld $\\phi^{n+1}_{i,k}$ zum nächsten Zeitschritt über \n",
    "\n",
    "$$\\phi^{n+1}_{i,k}=\\phi^{n}_{i,k}+M\\cdot\\Delta t\\;\\mathrm{d}\\phi^n_{i,k}$$ \n",
    "\n",
    "berechnet werden kann. $\\Delta t$ bezeichnet dabei die Zeit zwischen zwei Zeitschritten. Das Phasenfeld $\\phi^n_{i,k}$ sowie auch das Differenzphasenfeld $\\mathrm{d}\\phi^n_{i,k}$ werden gemäß der Phasenfeldgleichung von einem Zeitschritt zum nächsten immer wieder überschrieben."
   ]
  },
  {
   "cell_type": "code",
   "execution_count": 4,
   "metadata": {},
   "outputs": [],
   "source": [
    "def update_phasefield(phi,dphi,delta_t,M,mgrid,ngrid):\n",
    "    for i in range(1,mgrid-1):\n",
    "        for k in range(1,ngrid-1):# for every inner point\n",
    "            phi[i][k] += M * delta_t * dphi[i][k]"
   ]
  },
  {
   "cell_type": "markdown",
   "metadata": {},
   "source": [
    "Mann beachte dass auch in diesem Fall die Zählschleifen über den $x-$Index $i$ und den $y-$Index $k$ nur über das Innere des 2D Feldes, nicht aber über den Rand des Gebietes, gehen. Die Randwerte werden über Randbedingungen festgelegt."
   ]
  },
  {
   "cell_type": "markdown",
   "metadata": {},
   "source": [
    "## Randbedingungen\n",
    "\n",
    "Für die vier verschiedenen Randkannten unseres 2D Feldes definieren wir von Neumann Randbedingungen für das Phasenfeld. Dabei soll der Phasenfeldfluss durch den Rand jeweils verschwinden, was im Falle der Temperaturdiffusion einer thermisch isolierenden Randbedingungen entspricht."
   ]
  },
  {
   "cell_type": "code",
   "execution_count": 5,
   "metadata": {},
   "outputs": [],
   "source": [
    "def set_left_boundary(field,mgrid,ngrid):\n",
    "        for k in range(ngrid):\n",
    "                field[0][k] = field[1][k]\n",
    "#******************************************************************\n",
    "def set_right_boundary(field,mgrid,ngrid):\n",
    "        for k in range(ngrid):\n",
    "                field[mgrid-1][k] = field[mgrid-2][k]\n",
    "#******************************************************************\n",
    "def set_top_boundary(field,mgrid,ngrid):\n",
    "        for i in range(mgrid):\n",
    "                field[i][ngrid-1] = field[i][ngrid-2]\n",
    "#******************************************************************\n",
    "def set_bottom_boundary(field,mgrid,ngrid):\n",
    "        for i in range(mgrid):\n",
    "                field[i][0] = field[i][1]\n",
    "#******************************************************************\n",
    "def set_boundary(field,mgrid,ngrid):\n",
    "    set_left_boundary(field,mgrid,ngrid)\n",
    "    set_right_boundary(field,mgrid,ngrid)\n",
    "    set_top_boundary(field,mgrid,ngrid)\n",
    "    set_bottom_boundary(field,mgrid,ngrid)"
   ]
  },
  {
   "cell_type": "markdown",
   "metadata": {},
   "source": [
    "## Momentaner Phasenanteil\n",
    "Zur Überwachung der numerischen Lösung berechnen wir das aktuelle Phasenvolumen der $\\phi = 1-$Phase aus dem Phasenfeldintegral. Die zeitliche Entwicklung des Phasenvolumen kann anschließend mit der theoretischen Erwartung verglichen werden. Mann beachte dass auch für die Berechnung des Feldintegrals die Zählschleifen über den $x-$Index $i$ und den $y-$Index $k$ nur über das Innere des 2D Feldes, nicht aber über den Rand des Gebietes, gehen."
   ]
  },
  {
   "cell_type": "code",
   "execution_count": 6,
   "metadata": {},
   "outputs": [],
   "source": [
    "def integral(field, delta_x):\n",
    "    integral = 0.0\n",
    "    for i in range(1,len(field)-1):\n",
    "        for k in range(1,len(field[i])-1):\n",
    "            integral += field[i][k] * delta_x**2\n",
    "    return integral"
   ]
  },
  {
   "cell_type": "markdown",
   "metadata": {},
   "source": [
    "# Stationär fortschreitende Phasenumwandlung\n",
    "\n",
    "Wir betrachten ein rechteckiges System mit Abmessungen $3\\times100$."
   ]
  },
  {
   "cell_type": "code",
   "execution_count": 7,
   "metadata": {},
   "outputs": [],
   "source": [
    "#Parameters of the model\n",
    "Gamma = 1.0                  # [J/m^2] interface energy \n",
    "xi    = 1.5                  # [m] phasefield interface width \n",
    "M     = 1.0                  # [m^2/s] kinetic coefficient \n",
    "mu0   = 0.1                  # [J/m^3] bulk energy density difference (driving force)\n",
    "\n",
    "delta_t = 1.e-1              # [s] timestep"
   ]
  },
  {
   "cell_type": "markdown",
   "metadata": {},
   "source": [
    "## Repräsentation des Phasenfeldes\n",
    "Das Phasenfeld $\\phi(x,y,t)$ ist eine zeitabhängige Funktion, die auch von den Raumkoordinaten $x$ und $y$ abhängt. Zur Repräsentation des Phasenfeldes in diesem Programm legen wir  insgesamt zwei 2D-Felder aus Gleitkommazahlen an. \n",
    "Ein 2D Feld ist dabei ein Objekt aus $m_{grid}\\times n_{grid}$ Gleitkommazahlen. \n",
    "In der $x-$ Richtung besteht das Feld aus $m_{grid}-$ Spalten und in der $y-$ Richtung aus $n_{grid}-$ Zeilen. \n",
    "Die jeweils Erste und die jeweils Letzte der $m_{grid}-$ Spalten oder der $n_{grid}-$ Zeilen gehören zum Rand des Feldes. Hier müssen Randbedingungen erfüllt werden. Die Phasenfeldwerte an allen anderen Punkten des numerischen Gitters werden mit Hilfe der Phasenfeldgleichung, einer nichtlinearen partiellen Differentialgleichung, berechnet. Das numerische Gitter sei der Einfachheit halber ein Quadratgitter, d.h. der Abstand $\\Delta x$ zwischen Gitterpunkten sei in $x-$ Richtung genauso groß wie in $y-$ Richtung."
   ]
  },
  {
   "cell_type": "code",
   "execution_count": 8,
   "metadata": {},
   "outputs": [],
   "source": [
    "# Initialize grid parameters\n",
    "mgrid   = 3    # number of grid points in x direction, including boundary points\n",
    "ngrid   = 100  # number of grid points in y direction, including boundary points\n",
    "delta_x = 1.0  # [m] grid spacing "
   ]
  },
  {
   "cell_type": "markdown",
   "metadata": {},
   "source": [
    "Als nächstes werden musterhaft Objekte für die beiden 2D-Felder angelegt. Ein 2D Feld kann z.B. mit Hilfe von zwei verschachtelten Zählschleifen erzeugt werden. In diesem Fall gibt es eine äußere Zählschleife, die über die $m_{grid}-$Spalten zählt. Für jede dieser Spalten werden in einer inneren Zählschleife $n_{grid}-$Gleitkommazahlen anlegt und mit dem Wert $0.0$ initialisiert."
   ]
  },
  {
   "cell_type": "code",
   "execution_count": 9,
   "metadata": {},
   "outputs": [],
   "source": [
    "#create the 2D field objects\n",
    "phi     = np.array([[0.0 for k in range(ngrid)] for i in range(mgrid)])\n",
    "dphi    = np.array([[0.0 for k in range(ngrid)] for i in range(mgrid)])"
   ]
  },
  {
   "cell_type": "markdown",
   "metadata": {},
   "source": [
    "Zum Zeitpunkt $t=0$ muss dass Phasenfeld im Sinne eines Anfangswertes im gesamten Gebiet vorgegeben werden. Bei $t=0$ soll sich ein viertel eines kreisförmigen Keims mit Radius $y_0=20.0$ im System befinden. Unten $(y<y_0)$ soll das Phasenfeld den Wert $\\phi=1$ haben, und oben $(y>y_0)$ soll es den Wert $\\phi=0$. Die Grenzfläche soll gemäß dem Gleichgewichtsprofil des Phasenfeldmodells \n",
    "\n",
    "$$\n",
    "\\phi_0(x,y) = \\frac{1}{2}\\left(1 - \\mathrm{tanh}\\frac{y-y_0}{\\xi}\\right)\n",
    "$$\n",
    "\n",
    "durch einen glatten Übergang der Breite $\\xi = 2a$ repräsentiert sein. Wir definieren zunächst eine 2D Funktion, die mit Hilfe der mathematischen Funktion $\\mathrm{tanh}$ entsprechende Werte liefert."
   ]
  },
  {
   "cell_type": "code",
   "execution_count": 10,
   "metadata": {},
   "outputs": [],
   "source": [
    "def phase_front(x,y,y_0,xi):\n",
    "    return 0.5*(1.0 - np.tanh((y-y_0)/xi))\n",
    "\n",
    "# initialization of the phase field\n",
    "y_0   = 20.0\n",
    "center = np.array([0.0*mgrid*delta_x,0.0*ngrid*delta_x])\n",
    "for i in range(mgrid):\n",
    "    for k in range(ngrid):\n",
    "        phi[i][k] = phase_front(delta_x*i,delta_x*k,y_0,xi)"
   ]
  },
  {
   "cell_type": "markdown",
   "metadata": {},
   "source": [
    "Nach dem die 2D Felder angelegt und initialisiert sind, kann auf den Feldwert am Gitterpunkt $i, k$ wie nachstehend gezeigt zugegriffen werden."
   ]
  },
  {
   "cell_type": "code",
   "execution_count": 11,
   "metadata": {},
   "outputs": [
    {
     "name": "stdout",
     "output_type": "stream",
     "text": [
      "0.9999999994566858\n"
     ]
    }
   ],
   "source": [
    "i = 1\n",
    "k = 4\n",
    "print(phi[i][k])"
   ]
  },
  {
   "cell_type": "markdown",
   "metadata": {},
   "source": [
    "Darstellung des Ausgangsphasenfeldes mit Hilfe der Bibliothek  __[matplotlib](https://matplotlib.org)__."
   ]
  },
  {
   "cell_type": "code",
   "execution_count": 12,
   "metadata": {},
   "outputs": [
    {
     "data": {
      "image/png": "[encoded data removed]",
      "text/plain": [
       "<Figure size 864x360 with 1 Axes>"
      ]
     },
     "metadata": {
      "needs_background": "light"
     },
     "output_type": "display_data"
    }
   ],
   "source": [
    "x = np.linspace(0, ngrid*delta_x, ngrid)\n",
    "#y1 = np.sin(np.radians(x))\n",
    "#y2 = np.cos(np.radians(x))\n",
    "\n",
    "fig = plt.figure(figsize=(12, 5))\n",
    "ax = fig.add_subplot(1, 1, 1)\n",
    "ax.set_title('Stationär fortschreitende Phasenumwandlung')\n",
    "ax.set_xlabel('Ort y [m]')\n",
    "ax.set_ylabel('Phasenfeldwert')\n",
    "ax.set_xlim(0, ngrid*delta_x)\n",
    "ax.set_ylim(-0.1, 1.1)\n",
    "ax.grid()\n",
    "\n",
    "i = 1\n",
    "\n",
    "ax.plot(x, phi[i], label='Phasenfeld')\n",
    "ax.legend()\n",
    "\n",
    "plt.show()"
   ]
  },
  {
   "cell_type": "markdown",
   "metadata": {},
   "source": [
    "## Phasenfeldsimulation\n",
    "\n",
    "Neben der Festlegung der Zahl der Zeitschritte für die Hauptzeitschleife, legen wir leere Listen für die momentane $y-$Position der Grenzflächenmitte und Zeiten an. Der erste Eintrag in den Listen ist der gemessene Ausgangssituation und die Zeit $t=0$. "
   ]
  },
  {
   "cell_type": "code",
   "execution_count": 13,
   "metadata": {},
   "outputs": [
    {
     "name": "stdout",
     "output_type": "stream",
     "text": [
      "time =  0.0 position =  20.000000000003567 velocity =  0.1\n"
     ]
    }
   ],
   "source": [
    "nloop   = 1001           # number of time steps \n",
    "time    = 0.0\n",
    "outstep = 10             # the y-position are measured only every outstep time step\n",
    "\n",
    "t_list    = []           # list of the times\n",
    "pos_list  = []           # list of the y-position\n",
    "vel_list  = []           # list of the y-velocities\n",
    "\n",
    "def position(phi,delta_x): \n",
    "    return integral(phi,delta_x)/((mgrid-2)*delta_x) + 0.5*delta_x\n",
    "\n",
    "pos = position(phi,delta_x)\n",
    "vel = M/Gamma*mu0\n",
    "t_list.append(time)\n",
    "pos_list.append(pos)\n",
    "vel_list.append(vel)\n",
    "print('time = ', time, 'position = ', pos, 'velocity = ', vel)"
   ]
  },
  {
   "cell_type": "markdown",
   "metadata": {},
   "source": [
    "In der Hauptzeitschleife müssen wir in jedem Zeitschritt zunächst das Differenzphasenfeld mit Hilfe der Phasenfeldgleichung auf Basis des aktuellen Phasenfeldes inklusive der aktuellen Randwerte berechnen. Anschließend wird das Phasenfeld zum neuen Zeitschritt mit Hilfe des Differenzphasenfeldes berechnet und überschrieben. Dann werden die Randwerte zum aktuellen Zeitschritt auf Basis der Randbedingungen berechnet und überschrieben."
   ]
  },
  {
   "cell_type": "code",
   "execution_count": 14,
   "metadata": {},
   "outputs": [
    {
     "name": "stdout",
     "output_type": "stream",
     "text": [
      "time =  0.1 position =  20.010000220285725 velocity =  0.10000220282158523\n",
      "time =  1.0999999999999999 position =  20.108568103011653 velocity =  0.0985678827259271\n",
      "time =  2.1000000000000005 position =  20.206094155811105 velocity =  0.09752605279945208\n",
      "time =  3.1000000000000014 position =  20.303858391093247 velocity =  0.09776423528214187\n",
      "time =  4.100000000000001 position =  20.401320464341236 velocity =  0.09746207324798917\n",
      "time =  5.099999999999998 position =  20.497585287575507 velocity =  0.09626482323427189\n",
      "time =  6.099999999999994 position =  20.592131916380684 velocity =  0.0945466288051765\n",
      "time =  7.099999999999991 position =  20.68505351480358 velocity =  0.09292159842289782\n",
      "time =  8.099999999999987 position =  20.776988619527728 velocity =  0.09193510472414734\n",
      "time =  9.099999999999984 position =  20.868874775601505 velocity =  0.09188615607377704\n",
      "time =  10.09999999999998 position =  20.96164840656665 velocity =  0.09277363096514468\n",
      "time =  11.099999999999977 position =  21.05596605668356 velocity =  0.09431765011691018\n",
      "time =  12.099999999999973 position =  21.15199119828277 velocity =  0.09602514159921006\n",
      "time =  13.09999999999997 position =  21.249304059280696 velocity =  0.09731286099792803\n",
      "time =  14.099999999999966 position =  21.347005630083476 velocity =  0.09770157080278032\n",
      "time =  15.099999999999962 position =  21.44403193899507 velocity =  0.09702630891159493\n",
      "time =  16.09999999999996 position =  21.539566194848767 velocity =  0.09553425585369657\n",
      "time =  17.099999999999973 position =  21.63334664987859 velocity =  0.09378045502982113\n",
      "time =  18.099999999999987 position =  21.72572915936686 velocity =  0.09238250948826955\n",
      "time =  19.1 position =  21.817520146754333 velocity =  0.0917909873874714\n",
      "time =  20.100000000000016 position =  21.90969349519661 velocity =  0.09217334844227534\n",
      "time =  21.10000000000003 position =  22.003093471218644 velocity =  0.0933999760220332\n",
      "time =  22.100000000000044 position =  22.098179483249698 velocity =  0.09508601203105237\n",
      "time =  23.10000000000006 position =  22.19485849281079 velocity =  0.09667900956109184\n",
      "time =  24.100000000000072 position =  22.292472896466176 velocity =  0.09761440365538337\n",
      "time =  25.100000000000087 position =  22.390002102685493 velocity =  0.09752920621931555\n",
      "time =  26.1000000000001 position =  22.486441887761803 velocity =  0.09643978507630853\n",
      "time =  27.100000000000115 position =  22.581195621564163 velocity =  0.09475373380235873\n",
      "time =  28.10000000000013 position =  22.674282282083382 velocity =  0.093086660519218\n",
      "time =  29.100000000000144 position =  22.766287115392462 velocity =  0.09200483330907841\n",
      "time =  30.100000000000158 position =  22.858128009753337 velocity =  0.09184089436087331\n",
      "time =  31.100000000000172 position =  22.950756675411217 velocity =  0.09262866565787899\n",
      "time =  32.100000000000186 position =  23.044874936528522 velocity =  0.09411826111730415\n",
      "time =  33.1000000000002 position =  23.140711443694933 velocity =  0.0958365071664091\n",
      "time =  34.100000000000215 position =  23.237913353069022 velocity =  0.09720190937408762\n",
      "time =  35.10000000000023 position =  23.335624929875557 velocity =  0.09771157680653392\n",
      "time =  36.10000000000024 position =  23.43278037182535 velocity =  0.09715544194978994\n",
      "time =  37.10000000000026 position =  23.528514389844805 velocity =  0.095734018019455\n",
      "time =  38.10000000000027 position =  23.622492106690522 velocity =  0.09397771684571632\n",
      "time =  39.100000000000286 position =  23.71500242389205 velocity =  0.09251031720152493\n",
      "time =  40.1000000000003 position =  23.806812683483304 velocity =  0.09181025959125447\n",
      "time =  41.100000000000314 position =  23.898892918382142 velocity =  0.09208023489883613\n",
      "time =  42.10000000000033 position =  23.992116822642036 velocity =  0.09322390425989237\n",
      "time =  43.10000000000034 position =  24.086999529781487 velocity =  0.09488270713944978\n",
      "time =  44.10000000000036 position =  24.183516743255307 velocity =  0.09651721347381899\n",
      "time =  45.10000000000037 position =  24.281070619111674 velocity =  0.09755387585636516\n",
      "time =  46.100000000000385 position =  24.37866570069994 velocity =  0.09759508158826552\n",
      "time =  47.1000000000004 position =  24.475273963756006 velocity =  0.09660826305606425\n",
      "time =  48.10000000000041 position =  24.570235678528054 velocity =  0.09496171477204605\n",
      "time =  49.10000000000043 position =  24.663495856618034 velocity =  0.09326017808997956\n",
      "time =  50.10000000000044 position =  24.75558332274204 velocity =  0.09208746612400501\n",
      "time =  51.100000000000456 position =  24.84739224468661 velocity =  0.09180892194456772\n",
      "time =  52.10000000000047 position =  24.939885754450934 velocity =  0.09249350976432293\n",
      "time =  53.100000000000485 position =  25.03380787132246 velocity =  0.09392211687152363\n",
      "time =  54.1000000000005 position =  25.12945086248608 velocity =  0.09564299116362071\n",
      "time =  55.10000000000051 position =  25.226529836251697 velocity =  0.0970789737656141\n",
      "time =  56.10000000000053 position =  25.324236426302125 velocity =  0.0977065900504272\n",
      "time =  57.10000000000054 position =  25.421508833973206 velocity =  0.09727240767107975\n",
      "time =  58.100000000000556 position =  25.517437955197796 velocity =  0.09592912122458805\n",
      "time =  59.10000000000057 position =  25.611617046261394 velocity =  0.09417909106359668\n",
      "time =  60.100000000000584 position =  25.704265935851247 velocity =  0.09264888958985164\n",
      "time =  61.1000000000006 position =  25.796109006678208 velocity =  0.09184307082695978\n",
      "time =  62.10000000000061 position =  25.888108312920004 velocity =  0.09199930624179456\n",
      "time =  63.10000000000063 position =  25.981163366051515 velocity =  0.09305505313150998\n",
      "time =  64.10000000000063 position =  26.075842487726423 velocity =  0.094679121674907\n",
      "time =  65.10000000000058 position =  26.172189573655178 velocity =  0.09634708592876089\n",
      "time =  66.10000000000052 position =  26.269668945649066 velocity =  0.09747937199389355\n",
      "time =  67.10000000000046 position =  26.367315434014863 velocity =  0.09764648836580236\n",
      "time =  68.1000000000004 position =  26.464082920288167 velocity =  0.09676748627330961\n",
      "time =  69.10000000000035 position =  26.559251903318717 velocity =  0.09516898303055585\n",
      "time =  70.10000000000029 position =  26.65269305811912 velocity =  0.09344115480040747\n",
      "time =  71.10000000000024 position =  26.74487566589976 velocity =  0.0921826077806446\n",
      "time =  72.10000000000018 position =  26.83666604612356 velocity =  0.09179038022380748\n",
      "time =  73.10000000000012 position =  26.92903478930117 velocity =  0.09236874317761404\n",
      "time =  74.10000000000007 position =  27.022764890457957 velocity =  0.09373010115679214\n",
      "time =  75.10000000000001 position =  27.118210437924564 velocity =  0.09544554746661237\n",
      "time =  76.09999999999995 position =  27.215155164949184 velocity =  0.09694472702462616\n",
      "time =  77.0999999999999 position =  27.312841836132726 velocity =  0.09768667118354757\n",
      "time =  78.09999999999984 position =  27.410218421623544 velocity =  0.09737658549082283\n",
      "time =  79.09999999999978 position =  27.50633697159089 velocity =  0.09611854996735239\n",
      "time =  80.09999999999972 position =  27.6007205825328 velocity =  0.09438361094191632\n",
      "time =  81.09999999999967 position =  27.69351821582742 velocity =  0.0927976332946247\n",
      "time =  82.09999999999961 position =  27.785407530564928 velocity =  0.0918893147375125\n",
      "time =  83.09999999999955 position =  27.877338451249067 velocity =  0.09193092068414356\n",
      "time =  84.0999999999995 position =  27.970232610663587 velocity =  0.09289415941452533\n",
      "time =  85.09999999999944 position =  28.06470881796134 velocity =  0.0944762072977579\n",
      "time =  86.09999999999938 position =  28.160878321925257 velocity =  0.0961695039639229\n",
      "time =  87.09999999999933 position =  28.25826964708563 velocity =  0.09739132516037884\n",
      "time =  88.09999999999927 position =  28.35595281953694 velocity =  0.09768317245131741\n",
      "time =  89.09999999999921 position =  28.45286942746687 velocity =  0.09691660792993258\n",
      "time =  90.09999999999916 position =  28.54824391942669 velocity =  0.09537449195982549\n",
      "time =  91.0999999999991 position =  28.641872681258317 velocity =  0.09362876183163316\n",
      "time =  92.09999999999904 position =  28.734162557800897 velocity =  0.09228987654258516\n",
      "time =  93.09999999999899 position =  28.825947933111117 velocity =  0.09178537531022524\n",
      "time =  94.09999999999893 position =  28.918202838399825 velocity =  0.09225490528871375\n",
      "time =  95.09999999999887 position =  29.011745910980405 velocity =  0.09354307258058546\n",
      "time =  96.09999999999881 position =  29.10699104913877 velocity =  0.09524513815837041\n",
      "time =  97.09999999999876 position =  29.203790943475173 velocity =  0.09679989433640851\n",
      "time =  98.0999999999987 position =  29.30144290625338 velocity =  0.09765196277821375\n",
      "time =  99.09999999999864 position =  29.39891033179416 velocity =  0.09746742554078323\n",
      "time =  100.09999999999859 position =  29.495211643913592 velocity =  0.0963013121194384\n"
     ]
    }
   ],
   "source": [
    "#the main time loop\n",
    "for Step in range(nloop):\n",
    "    solve_phasefield(phi,dphi,delta_x,xi,Gamma,mu0,mgrid,ngrid)\n",
    "    update_phasefield(phi,dphi,delta_t,M,mgrid,ngrid)\n",
    "    set_boundary(phi,mgrid,ngrid)\n",
    "    time += delta_t\n",
    "    if Step%outstep == 0: # the measurement of the current radius only every outstep steps \n",
    "        pos = position(phi,delta_x)\n",
    "        velocity = (pos-pos_list[-1])/(time-t_list[-1])\n",
    "        print('time = ', time, 'position = ', pos, 'velocity = ', velocity)\n",
    "        t_list.append(time)\n",
    "        pos_list.append(pos)\n",
    "        vel_list.append(velocity)"
   ]
  },
  {
   "cell_type": "code",
   "execution_count": 17,
   "metadata": {},
   "outputs": [
    {
     "data": {
      "image/png": "[encoded data removed]",
      "text/plain": [
       "<Figure size 864x360 with 1 Axes>"
      ]
     },
     "metadata": {
      "needs_background": "light"
     },
     "output_type": "display_data"
    }
   ],
   "source": [
    "t = np.linspace(0.0, t_list[-1], 500)\n",
    "velo_theory = M/Gamma*mu0 + 0.0*t\n",
    "\n",
    "fig4 = plt.figure(figsize=(12, 5))\n",
    "ax4  = fig4.add_subplot(1, 1, 1)\n",
    "ax4.set_title(\"Phase front motion\")\n",
    "ax4.set_xlabel(\"Time [s]\")\n",
    "ax4.set_ylabel(\"interface velocity [m/s]\")\n",
    "ax4.grid()\n",
    "\n",
    "ax4.plot(t_list, vel_list, label=\"Phasenfeld\")\n",
    "ax4.plot(t, velo_theory, label=\"analytisch\")\n",
    "ax4.legend()\n",
    "\n",
    "plt.show()"
   ]
  },
  {
   "cell_type": "code",
   "execution_count": null,
   "metadata": {},
   "outputs": [],
   "source": []
  }
 ],
 "metadata": {
  "kernelspec": {
   "display_name": "Python 3 (ipykernel)",
   "language": "python",
   "name": "python3"
  },
  "language_info": {
   "codemirror_mode": {
    "name": "ipython",
    "version": 3
   },
   "file_extension": ".py",
   "mimetype": "text/x-python",
   "name": "python",
   "nbconvert_exporter": "python",
   "pygments_lexer": "ipython3",
   "version": "3.8.11"
  }
 },
 "nbformat": 4,
 "nbformat_minor": 4
}
